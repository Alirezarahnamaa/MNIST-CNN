{
  "nbformat": 4,
  "nbformat_minor": 0,
  "metadata": {
    "accelerator": "GPU",
    "colab": {
      "name": "mnist.ipynb",
      "provenance": [],
      "collapsed_sections": [],
      "toc_visible": true
    },
    "kernelspec": {
      "display_name": "Python 3",
      "name": "python3"
    }
  },
  "cells": [
    {
      "cell_type": "markdown",
      "metadata": {
        "id": "EBp_yNp0pUT4"
      },
      "source": [
        "# ***imports***"
      ]
    },
    {
      "cell_type": "code",
      "metadata": {
        "id": "HbA_MobCVSSB"
      },
      "source": [
        "import cv2\n",
        "import matplotlib.pyplot as plt\n",
        "from keras.models import Sequential\n",
        "from keras.layers import Dense, Dropout, Activation\n",
        "import numpy as np\n",
        "import keras\n",
        "from keras.utils import to_categorical\n",
        "from keras.datasets import mnist"
      ],
      "execution_count": null,
      "outputs": []
    },
    {
      "cell_type": "markdown",
      "metadata": {
        "id": "kHzMqIAKpQvY"
      },
      "source": [
        "# ***Huda dataset***"
      ]
    },
    {
      "cell_type": "code",
      "metadata": {
        "id": "i76gEQf8QLuK"
      },
      "source": [
        "from matplotlib import pyplot as plt\r\n",
        "from HodaDatasetReader import read_hoda_cdb, read_hoda_dataset\r\n",
        "X_train, Y_train = read_hoda_dataset(dataset_path='/content/Train 60000.cdb',\r\n",
        "                                images_height=32,\r\n",
        "                                images_width=32,\r\n",
        "                                one_hot=False,\r\n",
        "                                reshape=True)\r\n",
        "\r\n",
        "\r\n",
        "\r\n"
      ],
      "execution_count": null,
      "outputs": []
    },
    {
      "cell_type": "markdown",
      "metadata": {
        "id": "kuJQIH2BpXMV"
      },
      "source": [
        "# ***normalization***"
      ]
    },
    {
      "cell_type": "code",
      "metadata": {
        "id": "OdpZwqrgZlEt"
      },
      "source": [
        "x_train = np.array(X_train)\r\n",
        "y_train = np.array(Y_train)\r\n",
        "#x_test = np.array(X_test)\r\n",
        "#y_test = np.array(Y_test)\r\n",
        "\r\n",
        "x_train = X_train.reshape(60000, 1024).astype(\"float32\") / 255\r\n",
        "#x_test = X_test.reshape(20000, 1024).astype(\"float32\") / 255\r\n"
      ],
      "execution_count": null,
      "outputs": []
    },
    {
      "cell_type": "markdown",
      "metadata": {
        "id": "I4twmzm9pb5N"
      },
      "source": [
        "# ***mnist dataset***"
      ]
    },
    {
      "cell_type": "code",
      "metadata": {
        "id": "e0cN8x5oVP5A",
        "colab": {
          "base_uri": "https://localhost:8080/"
        },
        "outputId": "ea5699e0-0d24-4355-a168-e4a63362f4f9"
      },
      "source": [
        "(x_train, y_train), (x_test, y_test) = keras.datasets.mnist.load_data()\n",
        "\n",
        "x_train = x_train.reshape(60000, 784).astype(\"float32\") / 255\n",
        "x_test = x_test.reshape(10000, 784).astype(\"float32\") / 255\n",
        "\n",
        "y_train = y_train.astype(\"float32\")\n",
        "y_test = y_test.astype(\"float32\")\n",
        "\n",
        "x_val = x_train[-10000:]\n",
        "y_val = y_train[-10000:]\n",
        "x_train = x_train[:-10000]\n",
        "y_train = y_train[:-10000]"
      ],
      "execution_count": null,
      "outputs": [
        {
          "output_type": "stream",
          "text": [
            "Downloading data from https://storage.googleapis.com/tensorflow/tf-keras-datasets/mnist.npz\n",
            "11493376/11490434 [==============================] - 0s 0us/step\n"
          ],
          "name": "stdout"
        }
      ]
    },
    {
      "cell_type": "markdown",
      "metadata": {
        "id": "wS_kUvskpfrv"
      },
      "source": [
        "# ***Fully connected***"
      ]
    },
    {
      "cell_type": "code",
      "metadata": {
        "id": "1n0BEzglVMEy"
      },
      "source": [
        "model = Sequential()\n",
        "model.add(Dense(64, activation='relu', input_dim=1024))\n",
        "model.add(Dense(128, activation='relu'))\n",
        "model.add(Dense(10, activation='softmax'))"
      ],
      "execution_count": null,
      "outputs": []
    },
    {
      "cell_type": "markdown",
      "metadata": {
        "id": "EeafVEfXpjv_"
      },
      "source": [
        "# ***Optimizer***"
      ]
    },
    {
      "cell_type": "code",
      "metadata": {
        "id": "JxEDz2ZHZ9FU"
      },
      "source": [
        "model.compile(\n",
        "    optimizer=\"adam\",\n",
        "    loss=keras.losses.SparseCategoricalCrossentropy(),\n",
        "    metrics=[keras.metrics.SparseCategoricalAccuracy()],\n",
        ")"
      ],
      "execution_count": null,
      "outputs": []
    },
    {
      "cell_type": "code",
      "metadata": {
        "id": "z5Zbtn3_aB7p",
        "colab": {
          "base_uri": "https://localhost:8080/"
        },
        "outputId": "1fce46c1-14a4-4e77-eb8e-a6762b513959"
      },
      "source": [
        "history = model.fit(\n",
        "    x_train,\n",
        "    y_train,\n",
        "    epochs=5,\n",
        ")"
      ],
      "execution_count": null,
      "outputs": [
        {
          "output_type": "stream",
          "text": [
            "Epoch 1/5\n",
            "1875/1875 [==============================] - 5s 2ms/step - loss: 0.9025 - sparse_categorical_accuracy: 0.7608\n",
            "Epoch 2/5\n",
            "1875/1875 [==============================] - 3s 2ms/step - loss: 0.1922 - sparse_categorical_accuracy: 0.9441\n",
            "Epoch 3/5\n",
            "1875/1875 [==============================] - 3s 2ms/step - loss: 0.1531 - sparse_categorical_accuracy: 0.9577\n",
            "Epoch 4/5\n",
            "1875/1875 [==============================] - 3s 2ms/step - loss: 0.1302 - sparse_categorical_accuracy: 0.9645\n",
            "Epoch 5/5\n",
            "1875/1875 [==============================] - 3s 2ms/step - loss: 0.1131 - sparse_categorical_accuracy: 0.9691\n"
          ],
          "name": "stdout"
        }
      ]
    },
    {
      "cell_type": "code",
      "metadata": {
        "id": "FvRrfg66aBwh",
        "colab": {
          "base_uri": "https://localhost:8080/",
          "height": 288
        },
        "outputId": "eccabdd4-7a8a-4d97-b412-c8f1972d1e71"
      },
      "source": [
        "history.history\r\n",
        "\r\n",
        "plt.plot(history.history['sparse_categorical_accuracy'],c='k',lw=5)\r\n",
        "plt.grid(True)\r\n",
        "plt.xlabel(\"Epochs\",fontsize=15)\r\n",
        "plt.ylabel(\"Training accuracy\",fontsize=15)\r\n",
        "plt.ylim(0.8,1.0)\r\n",
        "plt.show()"
      ],
      "execution_count": null,
      "outputs": [
        {
          "output_type": "display_data",
          "data": {
            "image/png": "[encoded data removed]",
            "text/plain": [
              "<Figure size 432x288 with 1 Axes>"
            ]
          },
          "metadata": {
            "tags": [],
            "needs_background": "light"
          }
        }
      ]
    },
    {
      "cell_type": "markdown",
      "metadata": {
        "id": "xOceobXJpqf4"
      },
      "source": [
        "# ***Test evaluate***"
      ]
    },
    {
      "cell_type": "code",
      "metadata": {
        "id": "G_5Bgo7kcKvu",
        "colab": {
          "base_uri": "https://localhost:8080/"
        },
        "outputId": "537acd1d-0791-4c99-9a91-2b7c39a2f3df"
      },
      "source": [
        "print(\"test data\")\n",
        "results = model.evaluate(x_test, y_test)\n",
        "print(\"test loss, test acc:\", results)\n"
      ],
      "execution_count": null,
      "outputs": [
        {
          "output_type": "stream",
          "text": [
            "test data\n",
            "625/625 [==============================] - 1s 1ms/step - loss: 0.2121 - sparse_categorical_accuracy: 0.9376\n",
            "test loss, test acc: [0.21208599209785461, 0.9375500082969666]\n"
          ],
          "name": "stdout"
        }
      ]
    },
    {
      "cell_type": "code",
      "metadata": {
        "id": "RszZmsM0Qzid"
      },
      "source": [
        "model.save('mnist.h5')"
      ],
      "execution_count": null,
      "outputs": []
    },
    {
      "cell_type": "code",
      "metadata": {
        "id": "5cRJ--bbRfQj"
      },
      "source": [
        "from keras.models import load_model\n",
        "model = load_model('mnist.h5')"
      ],
      "execution_count": null,
      "outputs": []
    }
  ]
}